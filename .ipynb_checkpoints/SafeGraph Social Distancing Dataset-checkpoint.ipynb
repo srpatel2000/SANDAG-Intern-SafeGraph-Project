{
 "cells": [
  {
   "cell_type": "markdown",
   "metadata": {},
   "source": [
    "# SafeGraph Social Distancing Dataset\n",
    "This notebook will be used for the exploratory analysis of SafeGraph's Social Distancing Dataset. As of 5/14/2021, SANDAG still needs to update their contract with SafeGraph, and therefore this dataset has not been explored. "
   ]
  }
 ],
 "metadata": {
  "kernelspec": {
   "display_name": "Python 3",
   "language": "python",
   "name": "python3"
  },
  "language_info": {
   "codemirror_mode": {
    "name": "ipython",
    "version": 3
   },
   "file_extension": ".py",
   "mimetype": "text/x-python",
   "name": "python",
   "nbconvert_exporter": "python",
   "pygments_lexer": "ipython3",
   "version": "3.8.3"
  }
 },
 "nbformat": 4,
 "nbformat_minor": 4
}
